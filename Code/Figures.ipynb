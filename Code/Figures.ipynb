{
 "cells": [
  {
   "cell_type": "code",
   "execution_count": 13,
   "metadata": {
    "collapsed": true
   },
   "outputs": [],
   "source": [
    "import numpy as np\n",
    "import pandas as pd\n",
    "import math\n",
    "import numpy.random as rand\n",
    "import scipy\n",
    "from scipy.stats import binom as binomial\n",
    "from scipy.stats import beta as betafunction\n",
    "from scipy.stats import norm\n",
    "from scipy.stats import gamma\n",
    "import matplotlib.pyplot as plt\n",
    "from IPython.display import display\n",
    "import sys\n",
    "import pickle\n",
    "%matplotlib inline\n",
    "from matplotlib import rc\n",
    "rc('font',**{'family':'sans-serif','sans-serif':['Helvetica']})\n",
    "rc('text', usetex=True) #Want to be able to use tex in the plot labels\n",
    "\n",
    "import seaborn\n",
    "seaborn.set_style('ticks')\n",
    "seaborn.set_color_codes()\n"
   ]
  },
  {
   "cell_type": "code",
   "execution_count": 14,
   "metadata": {
    "collapsed": true
   },
   "outputs": [],
   "source": [
    "#Load in chains run using all three datasets from fake data:\n",
    "samples = []\n",
    "i = 0\n",
    "burnin = 1000\n",
    "for line in open('chains/fakedata/veff0.5/chain_1.txt','r'):\n",
    "    sample = line.split()\n",
    "    if i> burnin:\n",
    "        samples.append(sample)\n",
    "    i += 1\n",
    "\n",
    "samples50 = np.array(samples)\n",
    "samples50 = samples50.astype(float)\n",
    "\n",
    "samples = []\n",
    "i = 0\n",
    "for line in open('chains/fakedata/veff0.6/chain_1.txt','r'):\n",
    "    sample = line.split()\n",
    "    if i> burnin:\n",
    "        samples.append(sample)\n",
    "    i += 1\n",
    "\n",
    "samples60 = np.array(samples)\n",
    "samples60 = samples60.astype(float)\n",
    "\n",
    "samples = []\n",
    "i = 0\n",
    "for line in open('chains/fakedata/veff0.7/chain_1.txt','r'):\n",
    "    sample = line.split()\n",
    "    if i> burnin:\n",
    "        samples.append(sample)\n",
    "    i += 1\n",
    "\n",
    "samples70 = np.array(samples)\n",
    "samples70 = samples70.astype(float)\n",
    "\n",
    "samples = []\n",
    "i = 0\n",
    "for line in open('chains/fakedata/veff0.8/chain_1.txt','r'):\n",
    "    sample = line.split()\n",
    "    if i> burnin:\n",
    "        samples.append(sample)\n",
    "    i += 1\n",
    "\n",
    "samples80 = np.array(samples)\n",
    "samples80 = samples80.astype(float)\n",
    "\n",
    "samples = []\n",
    "i = 0\n",
    "for line in open('chains/fakedata/veff0.9/chain_1.txt','r'):\n",
    "    sample = line.split()\n",
    "    if i> burnin:\n",
    "        samples.append(sample)\n",
    "    i += 1\n",
    "\n",
    "samples90 = np.array(samples)\n",
    "samples90 = samples90.astype(float)\n",
    "\n",
    "samples = []\n",
    "i = 0\n",
    "for line in open('chains/fakedata/veff1.0/chain_1.txt','r'):\n",
    "    sample = line.split()\n",
    "    if i> burnin:\n",
    "        samples.append(sample)\n",
    "    i += 1\n",
    "\n",
    "samples100 = np.array(samples)\n",
    "samples100 = samples100.astype(float)"
   ]
  },
  {
   "cell_type": "code",
   "execution_count": 85,
   "metadata": {
    "collapsed": false
   },
   "outputs": [
    {
     "data": {
      "image/png": "[encoded data removed]",
      "text/plain": [
       "<matplotlib.figure.Figure at 0x1184b8f50>"
      ]
     },
     "metadata": {},
     "output_type": "display_data"
    }
   ],
   "source": [
    "#Look at v_eff:\n",
    "\n",
    "x = np.linspace(0,1,100)\n",
    "y = scipy.stats.beta.pdf(x,a=16.,b=5.)\n",
    "#veff50,b,c = plt.hist(samples50[:,6],bins=20, normed=True)\n",
    "veff60,b,c = plt.hist(samples60[:,6],bins=20, normed=True, color ='indigo')\n",
    "plt.axvline(0.6,c='k',ls='--',label='Injected Value')\n",
    "plt.axvline(0.6,c='indigo',ls='--')\n",
    "veff70,b,c = plt.hist(samples70[:,6],bins=20, normed=True, color = 'cornflowerblue')\n",
    "plt.axvline(0.7,c='cornflowerblue',ls='--')\n",
    "veff80,b,c = plt.hist(samples80[:,6],bins=20, normed=True, color = 'darkred')\n",
    "plt.axvline(0.8,c='darkred',ls='--')\n",
    "veff90,b,c = plt.hist(samples90[:,6],bins=20, normed=True, color = 'darkorange')\n",
    "plt.axvline(0.9,c='darkorange',ls='--')\n",
    "#veff100,b,c = plt.hist(samples100[:,6],bins=20, normed=True, color ='darkdarkgreen')\n",
    "plt.plot(x,y,color='gold',lw=3, label='Prior')\n",
    "plt.legend(loc='upper left',frameon=True)\n",
    "plt.annotate('$\\gamma = 0.6$',(0.425,55),fontsize=12)\n",
    "plt.annotate('$\\gamma = 0.7$',(0.5,30),fontsize=12)\n",
    "plt.annotate('$\\gamma = 0.8$',(0.735,18),fontsize=12)\n",
    "plt.annotate('$\\gamma = 0.9$',(0.835,13),fontsize=12)\n",
    "plt.xlim(0.35,1)\n",
    "plt.ylim(0,80)\n",
    "plt.xlabel('vaccine efficacy ($\\gamma$)',fontsize=15)\n",
    "plt.savefig('veff_fakedata_vaxserocase.pdf')"
   ]
  },
  {
   "cell_type": "code",
   "execution_count": null,
   "metadata": {
    "collapsed": true
   },
   "outputs": [],
   "source": [
    "#Look at vh and foi:"
   ]
  }
 ],
 "metadata": {
  "kernelspec": {
   "display_name": "Python 2",
   "language": "python",
   "name": "python2"
  },
  "language_info": {
   "codemirror_mode": {
    "name": "ipython",
    "version": 2
   },
   "file_extension": ".py",
   "mimetype": "text/x-python",
   "name": "python",
   "nbconvert_exporter": "python",
   "pygments_lexer": "ipython2",
   "version": "2.7.12"
  }
 },
 "nbformat": 4,
 "nbformat_minor": 2
}
