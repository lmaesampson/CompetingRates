{
 "cells": [
  {
   "cell_type": "code",
   "execution_count": 1,
   "metadata": {
    "collapsed": false
   },
   "outputs": [],
   "source": [
    "#Import necessary packages\n",
    "\n",
    "import numpy as np\n",
    "import pandas as pd\n",
    "import math\n",
    "import numpy.random as rand\n",
    "import scipy\n",
    "from scipy.stats import binom as binomial\n",
    "from scipy.stats import beta as betafunction\n",
    "from scipy.stats import norm\n",
    "from scipy.stats import gamma\n",
    "import matplotlib.pyplot as plt\n",
    "from IPython.display import display\n",
    "import sys\n",
    "%matplotlib inline\n",
    "from matplotlib import rc\n",
    "rc('font',**{'family':'sans-serif','sans-serif':['Helvetica']})\n",
    "rc('text', usetex=True) #Want to be able to use tex in the plot labels\n"
   ]
  },
  {
   "cell_type": "code",
   "execution_count": 43,
   "metadata": {
    "collapsed": false
   },
   "outputs": [
    {
     "name": "stdout",
     "output_type": "stream",
     "text": [
      "(1489, 13)\n"
     ]
    }
   ],
   "source": [
    "#Load in the samples\n",
    "samples = []\n",
    "i = 0\n",
    "burnin = 1000\n",
    "for line in open('chains/BFtest/BANDUNDU/chain_1.txt','r'):\n",
    "    sample = line.split()\n",
    "    if i> burnin:\n",
    "        samples.append(sample)\n",
    "    i += 1\n",
    "\n",
    "samples = np.array(samples)\n",
    "print np.shape(samples)\n",
    "\n",
    "samples = samples.astype(float)\n"
   ]
  },
  {
   "cell_type": "code",
   "execution_count": 44,
   "metadata": {
    "collapsed": false
   },
   "outputs": [
    {
     "data": {
      "text/plain": [
       "<matplotlib.collections.LineCollection at 0x11a73a110>"
      ]
     },
     "execution_count": 44,
     "metadata": {},
     "output_type": "execute_result"
    },
    {
     "data": {
      "image/png": "[encoded data removed]",
      "text/plain": [
       "<matplotlib.figure.Figure at 0x119c8d2d0>"
      ]
     },
     "metadata": {},
     "output_type": "display_data"
    }
   ],
   "source": [
    "#Define the edges of the bins - you have to estimate the density at 'alpha=0.0,' so this will depend on bin width.\n",
    "#Define them beforehand so you don't bias your results. Red line is the prior value - if the posterior is above this,\n",
    "#the BF prefers the simpler model. If below, it prefers the more complicated model.\n",
    "edges = np.linspace(0.,1.,200)\n",
    "a,b,c = plt.hist(samples[:,8],bins=edges,normed=True)\n",
    "plt.xlim(0,0.4)\n",
    "plt.hlines(1,0,1.0,color='red',linewidth=2)\n",
    "#plt.savefig('alphapost.png',)"
   ]
  },
  {
   "cell_type": "code",
   "execution_count": 27,
   "metadata": {
    "collapsed": true
   },
   "outputs": [],
   "source": [
    "#List of which provinces have a BF in favor of which model\n",
    "cModel = ['BASCONGO','MANIEMA','KASAIOCC','KASAIOR']\n",
    "wcModel = ['BANDUNDU','EQUATEUR','KATANGA','KINSHASA','ORIENTALE','SKIVU','NKIVU']"
   ]
  }
 ],
 "metadata": {
  "kernelspec": {
   "display_name": "Python 2",
   "language": "python",
   "name": "python2"
  },
  "language_info": {
   "codemirror_mode": {
    "name": "ipython",
    "version": 2
   },
   "file_extension": ".py",
   "mimetype": "text/x-python",
   "name": "python",
   "nbconvert_exporter": "python",
   "pygments_lexer": "ipython2",
   "version": "2.7.12"
  }
 },
 "nbformat": 4,
 "nbformat_minor": 0
}
