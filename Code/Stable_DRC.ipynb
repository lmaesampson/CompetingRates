{
 "cells": [
  {
   "cell_type": "code",
   "execution_count": 1,
   "metadata": {
    "collapsed": false
   },
   "outputs": [],
   "source": [
    "#Import necessary packages\n",
    "\n",
    "import numpy as np\n",
    "import pandas as pd\n",
    "import math\n",
    "import numpy.random as rand\n",
    "import scipy\n",
    "from scipy.stats import binom as binomial\n",
    "from scipy.stats import beta as betafunction\n",
    "from scipy.stats import norm\n",
    "from scipy.stats import gamma\n",
    "import matplotlib.pyplot as plt\n",
    "from IPython.display import display\n",
    "import sys\n",
    "import pickle\n",
    "import PTMCMCSampler\n",
    "from PTMCMCSampler import PTMCMCSampler as ptmcmc\n",
    "%matplotlib inline\n",
    "from matplotlib import rc\n",
    "rc('font',**{'family':'sans-serif','sans-serif':['Helvetica']})\n",
    "rc('text', usetex=True) #Want to be able to use tex in the plot labels\n",
    "\n",
    "import pickle"
   ]
  },
  {
   "cell_type": "code",
   "execution_count": null,
   "metadata": {
    "collapsed": true
   },
   "outputs": [],
   "source": []
  },
  {
   "cell_type": "code",
   "execution_count": 65,
   "metadata": {
    "collapsed": true
   },
   "outputs": [],
   "source": [
    "#Draw veff from prior:\n",
    "def veffprop(x,iter,beta):\n",
    "    q = x.copy()\n",
    "    qxy = 0.\n",
    "    \n",
    "    q[6] = np.random.normal(0.8,0.01)\n",
    "    qxy = scipy.stats.norm.pdf(q[6],0.75,0.1)\n",
    "\n",
    "    if iter>40000:\n",
    "        qxy = 1.\n",
    "        q = x.copy()\n",
    "    return q, qxy\n",
    "\n",
    "class LikelihoodWrapper(object):   #Necessary because I want to use the iteration number to set proposals.\n",
    "    \"\"\"Wrapper for likelihood function.\n",
    "        \n",
    "        :param likelihood: Likelihood function that reads in parameter vector x and iteration\n",
    "        \"\"\"\n",
    "            \n",
    "    def __init__(self, likelihood):\n",
    "        self.likelihood = likelihood\n",
    "        self.iter = 0\n",
    "    \n",
    "    def __call__(self, x):\n",
    "        ret = self.likelihood(x, self.iter)\n",
    "        self.iter += 1\n",
    "        return ret\n",
    "\n",
    "\n",
    "\n",
    "    "
   ]
  },
  {
   "cell_type": "code",
   "execution_count": null,
   "metadata": {
    "collapsed": false
   },
   "outputs": [],
   "source": [
    "#Real data, read in with Pandas. (Most of this data is not public and so not included in repository. Sorry.)\n",
    "vobs_pandas = pd.read_csv('../Data/Xvax.csv')                #People who reported vaccination\n",
    "vtrials_pandas = pd.read_csv('../Data/Nvax.csv')             #Number of people surveyed about vacc.\n",
    "sobs_pandas = pd.read_csv('../Data/YseroNew.csv')            #positive serology tests\n",
    "strials_pandas = pd.read_csv('../Data/NseroNew.csv')         #all serology tests\n",
    "cases_pandas = pd.read_csv('../Data/reported_cases_lab.csv') #There are lab-confirmed and suspected cases\n",
    "\n",
    "#Select the location you want to work with\n",
    "#Full list: = ['KINSHASA','EQUATEUR','MANIEMA','ORIENTALE','BANDUNDU', 'BAS-CONGO', 'KASAI-OCCIDENTAL', 'KASAI-ORIENTAL',\n",
    "#           'KATANGA', 'NORD-KIVU', 'SUD-KIVU' ]\n",
    "loc_subset = ['EQUATEUR'] #We work with one province at a time in general\n",
    "vobs = vobs_pandas.loc[:,loc_subset]\n",
    "vtrial = vtrials_pandas.loc[:,loc_subset]\n",
    "sobs = sobs_pandas.loc[:,loc_subset]\n",
    "strial = strials_pandas.loc[:,loc_subset]\n",
    "cases = cases_pandas.loc[:,loc_subset]\n",
    "\n",
    "#Convert to numpy arrays\n",
    "vo = vobs.values\n",
    "vt = vtrial.values\n",
    "so = sobs.values\n",
    "st = strial.values\n",
    "co = cases.values\n",
    "\n",
    "vo = np.sum(vo,axis=-1)\n",
    "vt = np.sum(vt,axis=-1)\n",
    "so = np.sum(so,axis=-1)\n",
    "st = np.sum(st,axis=-1)\n",
    "co = np.sum(co,axis=-1)\n",
    "\n",
    "vobs = np.copy(vo)\n",
    "vtry = np.copy(vt)\n",
    "sobs = np.copy(so)\n",
    "stry = np.copy(st)\n",
    "cobs = np.copy(co)\n",
    "\n",
    "print np.shape(vo)"
   ]
  },
  {
   "cell_type": "code",
   "execution_count": 117,
   "metadata": {
    "collapsed": false
   },
   "outputs": [],
   "source": [
    "#Read in and process data from simulation\n",
    "\n",
    "#Data_pd = pd.read_csv(\"../Data/FakeSero_veff0.7_allages.csv\",header=None)\n",
    "Data = pickle.load(open(\"FakeData_veff0.8_allages_avgsampling.p\",'rb'))\n",
    "#Data = Data_pd.as_matrix()\n",
    "Data = np.array(Data)\n",
    "vo = Data[0].copy()\n",
    "vt = Data[1].copy()\n",
    "so = Data[2].copy()\n",
    "st = Data[3].copy()\n",
    "cobs = Data[4].copy()\n",
    "\n",
    "vobs = vo.copy()\n",
    "vtry = vt.copy()\n",
    "sobs = so.copy()\n",
    "stry = st.copy()\n",
    "\n",
    "allAges = pickle.load(open(\"AllAges_fakedata.p\",'rb'))"
   ]
  },
  {
   "cell_type": "code",
   "execution_count": 118,
   "metadata": {
    "collapsed": false
   },
   "outputs": [
    {
     "data": {
      "text/plain": [
       "[<matplotlib.lines.Line2D at 0x10445b690>]"
      ]
     },
     "execution_count": 118,
     "metadata": {},
     "output_type": "execute_result"
    },
    {
     "data": {
      "image/png": "[encoded data removed]",
      "text/plain": [
       "<Figure size 432x288 with 1 Axes>"
      ]
     },
     "metadata": {},
     "output_type": "display_data"
    }
   ],
   "source": [
    "#Plot data to make sure it doesn't look crazy.\n",
    "\n",
    "total_cases = np.sum(cobs[:])\n",
    "\n",
    "plt.plot(vobs.astype(float)/vtry.astype(float),'bo')\n",
    "plt.plot(sobs.astype(float)/stry.astype(float),'go')\n",
    "\n"
   ]
  },
  {
   "cell_type": "code",
   "execution_count": 79,
   "metadata": {
    "collapsed": false
   },
   "outputs": [],
   "source": [
    "#Now define the prior and likelihood:\n",
    "\n",
    "def logltest(x,iter):  #Run with this likelihood to make sure you recover the prior. For testing new jump props.\n",
    "    return 0.0\n",
    "\n",
    "def logl(x,iter): \n",
    "    lnlike = 0.\n",
    "    N = len(vobs) #Length of data\n",
    "    \n",
    "    #Parameters\n",
    "    valpha = va = x[0]\n",
    "    vbeta = vb = x[1]\n",
    "    vheight = vh = x[2]\n",
    "    \n",
    "    falpha = fa =x[3]\n",
    "    fbeta = fb = x[4]\n",
    "    fheight = fh =x[5]\n",
    "    \n",
    "    veff = ve = x[6]\n",
    "\n",
    "    \n",
    "    vprob = np.zeros(N)\n",
    "    sprob = np.zeros(N)\n",
    "    cprob = np.zeros(N)\n",
    "    for i in range(0,N):\n",
    "        a = float(i+1.)\n",
    "        vprob[i] = 1. - np.exp(-vh*(1. - np.exp(-(a/vb)**va)))\n",
    "        sprob[i] = 1. - np.exp(-vh*ve*(1. - np.exp(-(a/vb)**va)) - fh*(1. - np.exp(-(a/fb)**fa)))\n",
    "        cprob[i] = (1.-np.exp(-fh*(fa/fb)*(a*12./fb)**(fa-1.)*np.exp(-(a*12./fb)**fa)))*\\\n",
    "                                       (np.exp(-ve*vh*(1.-np.exp(-(a*12./vb)**va))-fh*(1.-np.exp(-(a*12./fb)**fa))))\n",
    "        if vprob[i] < 0.0:\n",
    "            #print vprob\n",
    "            return -np.inf\n",
    "        if sprob[i] < 0.0:\n",
    "            #print sprob\n",
    "            return -np.inf\n",
    "        \n",
    "        lnlike += np.log(binomial.pmf(vobs[i],vtry[i],vprob[i]))\n",
    "        if a>6.:\n",
    "            lnlike += np.log(binomial.pmf(sobs[i],stry[i],sprob[i]))\n",
    "        #lnlike += 0.\n",
    "   \n",
    "    cprob /= sum(cprob[:]) \n",
    "    lnlike += scipy.stats.multinomial.logpmf(cobs[:],total_cases,cprob[:])\n",
    "    return lnlike\n",
    "\n",
    "\n",
    "\n",
    "def lnprior(x):\n",
    "    logp = 0.\n",
    "    \n",
    "    valpha = x[0]\n",
    "    vbeta = x[1]\n",
    "    vheight = x[2]\n",
    "    falpha = x[3]\n",
    "    fbeta = x[4]\n",
    "    fheight = x[5]\n",
    "    veff = x[6]    \n",
    "\n",
    "    logp += np.log(gamma.pdf(valpha,a=2.,scale=5.))\n",
    "    logp += np.log(gamma.pdf(vbeta,a=2.,scale=500.))\n",
    "    logp += np.log(gamma.pdf(vheight,a=2.,scale=15.))\n",
    "    \n",
    "    logp += np.log(gamma.pdf(falpha,a=2.,scale=5.))\n",
    "    logp += np.log(gamma.pdf(fbeta,a=1.5,scale=300.))\n",
    "    logp += np.log(gamma.pdf(fheight,a=2.,scale=15.))\n",
    "    \n",
    "    #logp += np.log(scipy.stats.beta.pdf(veff,a=85.,b=15.)) #Strict\n",
    "    logp += np.log(scipy.stats.beta.pdf(veff,a=16.,b=5.))  #Moderate\n",
    "    #logp += np.log(scipy.stats.beta.pdf(veff,a=1.,b=1.))   #Flat prior\n",
    "    \n",
    "    if veff<0. or veff>1.:\n",
    "        return -np.inf\n",
    "    if vbeta>100.:\n",
    "        return -np.inf\n",
    "    \n",
    "    return logp\n",
    "\n",
    "def logl_oldersero(x,iter):\n",
    "    lnlike = 0.\n",
    "    N = len(vobs) #Length of data\n",
    "    \n",
    "    #Parameters\n",
    "    valpha = va = x[0]\n",
    "    vbeta = vb = x[1]\n",
    "    vheight = vh = x[2]\n",
    "    \n",
    "    falpha = fa =x[3]\n",
    "    fbeta = fb = x[4]\n",
    "    fheight = fh =x[5]\n",
    "    \n",
    "    veff = ve = x[6]\n",
    "\n",
    "    vprob = np.zeros(N)\n",
    "    sprob = np.zeros(N)\n",
    "    for i in range(0,N):\n",
    "        #a = float(i+1.)\n",
    "        a = allAges[i]\n",
    "        vprob[i] = 1. - np.exp(-vh*(1. - np.exp(-(a/vb)**va)))\n",
    "        sprob[i] = 1. - np.exp(-vh*ve*(1. - np.exp(-(a/vb)**va)) - fh*(1. - np.exp(-(a/fb)**fa)))\n",
    "        \n",
    "        if vprob[i] < 0.0:\n",
    "            #print vprob\n",
    "            return -np.inf\n",
    "        if sprob[i] < 0.0:\n",
    "            #print sprob\n",
    "            return -np.inf\n",
    "        \n",
    "        lnlike += np.log(binomial.pmf(vobs[i],vtry[i],vprob[i]))\n",
    "        if a>6.:\n",
    "            lnlike += np.log(binomial.pmf(sobs[i],stry[i],sprob[i]))\n",
    "        #lnlike += 0.\n",
    "    \n",
    "    N = len(cobs) #There are still only 60 age classes\n",
    "    cprob = np.zeros(N)\n",
    "    for i in range(0,N):\n",
    "        a = float(i+1.)\n",
    "        cprob[i] = (1.-np.exp(-fh*(fa/fb)*(a*12./fb)**(fa-1.)*np.exp(-(a*12./fb)**fa)))*\\\n",
    "                                       (np.exp(-ve*vh*(1.-np.exp(-(a*12./vb)**va))-fh*(1.-np.exp(-(a*12./fb)**fa))))\n",
    "    \n",
    "    cprob /= sum(cprob[:]) \n",
    "    lnlike += scipy.stats.multinomial.logpmf(cobs[:],total_cases,cprob[:])\n",
    "    return lnlike"
   ]
  },
  {
   "cell_type": "code",
   "execution_count": 80,
   "metadata": {
    "collapsed": false
   },
   "outputs": [],
   "source": [
    "#Set up chain\n",
    "ndim = 7\n",
    "\n",
    "#Set up initial point\n",
    "p0PT = np.random.uniform(low=0.0, high=1.0, size=(1, 1, ndim)) #Start at random point\n",
    "p0PT = np.array(p0PT)\n",
    "x0 = np.copy(p0PT[0,0,:])\n",
    "\n",
    "#You can specify this point to be something specific, too.\n",
    "x0[0] = 7.\n",
    "x0[1] = 14.2\n",
    "x0[2] = 1.645\n",
    "x0[3] = 2.\n",
    "x0[4] = 200.\n",
    "x0[5] = 0.5\n",
    "x0[6] = 0.9\n"
   ]
  },
  {
   "cell_type": "code",
   "execution_count": 83,
   "metadata": {
    "collapsed": false
   },
   "outputs": [
    {
     "data": {
      "text/plain": [
       "-32810.79657547541"
      ]
     },
     "execution_count": 83,
     "metadata": {},
     "output_type": "execute_result"
    }
   ],
   "source": [
    "#Test the likelihood call\n",
    "logl(x0,1)\n"
   ]
  },
  {
   "cell_type": "code",
   "execution_count": 113,
   "metadata": {
    "collapsed": false
   },
   "outputs": [
    {
     "name": "stdout",
     "output_type": "stream",
     "text": [
      "nchains: 1\n"
     ]
    }
   ],
   "source": [
    "#Need an initial covariance matrix for this sampler:\n",
    "cov_diag = np.ones(ndim)\n",
    "cov_diag *= p0PT[0,0,:]*0.5\n",
    "\n",
    "\n",
    "#Define which likelihood you're using - logl for almost everything. logl_test to test that the sampler\n",
    "#recovers the priors when the likelihood is constant. logl_oldersero for the serology/vaccination data going all\n",
    "#the way up to 60 years.\n",
    "like = LikelihoodWrapper(logl)\n",
    "\n",
    "#Set up sampler, name the outdirectory to wherever you want to store the chains.\n",
    "sampler = ptmcmc.PTSampler(int(ndim), like, lnprior, cov=np.diag(cov_diag), groups=None, \n",
    "                           outDir='./chains/fakedata/AllAges/SameTotal/', verbose=True, resume=False)\n",
    "sampler.addProposalToCycle(veffprop,1)"
   ]
  },
  {
   "cell_type": "code",
   "execution_count": 108,
   "metadata": {
    "collapsed": false
   },
   "outputs": [
    {
     "data": {
      "text/plain": [
       "'\\nsampler.sample(p0=x0, Niter=int(5.e4), thin=20,\\n                covUpdate=10000, AMweight=15,\\n                SCAMweight=25, DEweight=50,\\n                writeHotChains=False)\\n'"
      ]
     },
     "execution_count": 108,
     "metadata": {},
     "output_type": "execute_result"
    }
   ],
   "source": [
    "#Sample!\n",
    "'''\n",
    "sampler.sample(p0=x0, Niter=int(5.e4), thin=20,\n",
    "                covUpdate=10000, AMweight=15,\n",
    "                SCAMweight=25, DEweight=50,\n",
    "                writeHotChains=False)\n",
    "'''"
   ]
  },
  {
   "cell_type": "code",
   "execution_count": 119,
   "metadata": {
    "collapsed": false
   },
   "outputs": [
    {
     "name": "stdout",
     "output_type": "stream",
     "text": [
      "(1449, 11)\n"
     ]
    }
   ],
   "source": [
    "#Now load in the samples and make a plot.\n",
    "\n",
    "samples = []\n",
    "i = 0\n",
    "burnin = 1000\n",
    "for line in open('chains/fakedata/AllAges/AvgSampling/chain_1.txt','r'):\n",
    "    sample = line.split()\n",
    "    if i> burnin:\n",
    "        samples.append(sample)\n",
    "    i += 1\n",
    "\n",
    "samples = np.array(samples)\n",
    "print np.shape(samples)\n",
    "\n",
    "samples = samples.astype(float)\n"
   ]
  },
  {
   "cell_type": "code",
   "execution_count": 120,
   "metadata": {
    "collapsed": false
   },
   "outputs": [
    {
     "data": {
      "image/png": "[encoded data removed]",
      "text/plain": [
       "<Figure size 1080x720 with 3 Axes>"
      ]
     },
     "metadata": {},
     "output_type": "display_data"
    }
   ],
   "source": [
    "nspace = 500\n",
    "x = np.linspace(1,720,nspace)\n",
    "cx = np.linspace(1,60,nspace)\n",
    "cplot = np.zeros(nspace)\n",
    "vplot = np.zeros(nspace)\n",
    "vplot2 = np.zeros(nspace)\n",
    "splot = np.zeros(nspace)\n",
    "ctest = np.zeros(nspace)\n",
    "foi = np.zeros(nspace)\n",
    "l = len(samples[:,0])\n",
    "nplot = 300\n",
    "fig, axes = plt.subplots(nrows=3, ncols=1, figsize=(15,10))\n",
    "#ax0 = axes\n",
    "ax0, ax1, ax2 = axes.flatten()\n",
    "#ax0, ax1 = axes.flatten()\n",
    "for k in range(nplot):\n",
    "    index = np.random.randint(l)\n",
    "    \n",
    "    valpha = samples[index,0]\n",
    "    vbeta = samples[index,1]\n",
    "    vheight = samples[index,2]\n",
    "    falpha = samples[index,3]\n",
    "    fbeta = samples[index,4]\n",
    "    fheight = samples[index,5]\n",
    "    veff = samples[index,6]\n",
    "    \n",
    "    va = valpha\n",
    "    vb = vbeta\n",
    "    vh = vheight\n",
    "    ve = veff\n",
    "    \n",
    "    fa = falpha\n",
    "    fb = fbeta\n",
    "    fh = fheight\n",
    "    \n",
    "    \n",
    "    j = 0\n",
    "    for i in x:\n",
    "        a = float(i)\n",
    "        vplot[j] = 1. - np.exp(-vh*(1. - np.exp(-(a/vb)**va)))\n",
    "        splot[j] = 1.0 - np.exp(-ve*vh*(1.-np.exp(-(i/vb)**va)) - fh*(1. - np.exp((-(i/fb)**fa))))\n",
    "        cplot[j] = (1.-np.exp(-(fh*fa/fb*(a*12./fb))**(fa-1.)*np.exp(-(a*12./fb)**fa)))\\\n",
    "        *(np.exp(-ve*vh*(1.-np.exp(-(a*12./vb)**va))-fh*(1.-np.exp(-(a*12./fb)**fa))))\n",
    "        j += 1\n",
    "    ax0.plot(x/12.,vplot,alpha=0.01,color='b')\n",
    "    ax1.plot((x)/12.,splot,alpha=0.01,color='g',linewidth=1)\n",
    "    ax2.plot(x,cplot/(sum(cplot)*(x[1]-x[0])),alpha=0.01,color='c',linewidth=1)\n",
    "        \n",
    "ax0.plot(allAges/12.,vobs.astype(float)/vtry.astype(float), 'ro')\n",
    "ax1.plot(allAges/12.,sobs.astype(float)/stry.astype(float),'ro')\n",
    "ax2.plot(cobs.astype(float)/total_cases,'ro')\n",
    "\n",
    "plt.xlim(0,60)\n",
    "fig.tight_layout()\n",
    "plt.savefig('AvgSampling_allages.png')"
   ]
  }
 ],
 "metadata": {
  "kernelspec": {
   "display_name": "Python 2",
   "language": "python",
   "name": "python2"
  },
  "language_info": {
   "codemirror_mode": {
    "name": "ipython",
    "version": 2
   },
   "file_extension": ".py",
   "mimetype": "text/x-python",
   "name": "python",
   "nbconvert_exporter": "python",
   "pygments_lexer": "ipython2",
   "version": "2.7.12"
  }
 },
 "nbformat": 4,
 "nbformat_minor": 0
}
